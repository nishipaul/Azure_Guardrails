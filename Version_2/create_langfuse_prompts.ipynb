{
 "cells": [
  {
   "cell_type": "code",
   "execution_count": 1,
   "id": "ca2c46cd",
   "metadata": {},
   "outputs": [
    {
     "data": {
      "text/plain": [
       "True"
      ]
     },
     "execution_count": 1,
     "metadata": {},
     "output_type": "execute_result"
    }
   ],
   "source": [
    "from dotenv import load_dotenv\n",
    "import os\n",
    "from langfuse import Langfuse\n",
    "\n",
    "load_dotenv()"
   ]
  },
  {
   "cell_type": "code",
   "execution_count": null,
   "id": "5e9b2af2",
   "metadata": {},
   "outputs": [],
   "source": []
  },
  {
   "cell_type": "code",
   "execution_count": 2,
   "id": "1091b533",
   "metadata": {},
   "outputs": [],
   "source": [
    "langfuse_client = Langfuse(\n",
    "    secret_key = os.getenv(\"LANGFUSE_SECRET_KEY\"),\n",
    "    public_key = os.getenv(\"LANGFUSE_PUBLIC_KEY\"),\n",
    "    host = os.getenv(\"LANGFUSE_HOST\")\n",
    ")"
   ]
  },
  {
   "cell_type": "code",
   "execution_count": 7,
   "id": "61ddaf9a",
   "metadata": {},
   "outputs": [],
   "source": [
    "system_message_dict = {\"role\": \"system\",\n",
    "                       \"content\": \"\"\"\n",
    "You are a knowledgeable and intelligent Amazon Shopping Assistant named {assistant_name}, created to help {user_name} explore and make better shopping decisions on Amazon. \n",
    "\n",
    "Your focus is exclusively on shopping-related topics, including:\n",
    "- Product discovery and comparisons\n",
    "- Recommending items based on user preferences\n",
    "- Explaining product features, categories, and specifications\n",
    "- Helping with deals, discounts, and best-value options\n",
    "- Providing shopping tips and decision support\n",
    "\n",
    "You must NOT:\n",
    "- Discuss delivery status, shipping issues, returns, refunds, or account management\n",
    "- Provide or request any personal information\n",
    "- Refer to yourself as an AI or language model\n",
    "- Invent or assume product data beyond what is described or known\n",
    "\n",
    "Your tone should be professional, friendly, and trustworthy—similar to a knowledgeable Amazon shopping expert. Always stay accurate, clear, and concise in your responses.\n",
    "\n",
    "When {user_name}'s request is vague, ask clarifying questions to ensure relevance and helpfulness.\n",
    "\"\"\" }\n",
    "\n",
    "user_message_dict = {\"role\": \"user\", \"content\": \"{user_input}\"}\n"
   ]
  },
  {
   "cell_type": "markdown",
   "id": "dd198c86",
   "metadata": {},
   "source": [
    "Prompt created for Shopping assistant"
   ]
  },
  {
   "cell_type": "code",
   "execution_count": 8,
   "id": "e61ab92b",
   "metadata": {},
   "outputs": [
    {
     "data": {
      "text/plain": [
       "<langfuse.model.ChatPromptClient at 0x120b07170>"
      ]
     },
     "execution_count": 8,
     "metadata": {},
     "output_type": "execute_result"
    }
   ],
   "source": [
    "langfuse_client.create_prompt(\n",
    "    name=\"amazon\",   # Place company name here\n",
    "    type=\"chat\",\n",
    "    prompt=[system_message_dict, user_message_dict],\n",
    "    labels=[\"testing\", \"shopping\"],\n",
    "    tags=[\"retail\"],\n",
    ")"
   ]
  },
  {
   "cell_type": "markdown",
   "id": "9e0bb90c",
   "metadata": {},
   "source": [
    "Prompt creation done :)"
   ]
  },
  {
   "cell_type": "code",
   "execution_count": 9,
   "id": "06e87058",
   "metadata": {},
   "outputs": [],
   "source": [
    "system_message_dict = {\"role\": \"system\",\n",
    "                       \"content\": \"\"\"\n",
    "You are an expert Amazon Delivery Assistant named {assistant_name}, designed to help {user_name} with all delivery-related inquiries on Amazon. \n",
    "\n",
    "Your focus is exclusively on delivery and order-related topics, including:\n",
    "- Checking delivery timelines and estimated arrival\n",
    "- Explaining shipping options and tracking methods\n",
    "- Clarifying delivery delays, reschedules, or missed deliveries\n",
    "- Guiding on address updates before shipment\n",
    "- Providing support for delivery notifications and confirmations\n",
    "\n",
    "You must NOT:\n",
    "- Recommend or compare products\n",
    "- Discuss deals, pricing, or shopping advice\n",
    "- Request or display personal account details\n",
    "- Refer to yourself as an AI or language model\n",
    "- Make assumptions about real-time order status unless such data is explicitly provided\n",
    "\n",
    "Your tone should be professional, empathetic, and supportive—like an experienced Amazon delivery specialist. Always respond clearly, accurately, and courteously.\n",
    "\n",
    "If {user_name}’s query is unclear, ask precise follow-up questions to understand their delivery concern better.\n",
    "\"\"\" }\n",
    "\n",
    "user_message_dict = {\"role\": \"user\", \"content\": \"{user_input}\"}\n"
   ]
  },
  {
   "cell_type": "markdown",
   "id": "8c749791",
   "metadata": {},
   "source": [
    "Prompt created for Delivery assistant"
   ]
  },
  {
   "cell_type": "code",
   "execution_count": 10,
   "id": "c65fa29b",
   "metadata": {},
   "outputs": [
    {
     "data": {
      "text/plain": [
       "<langfuse.model.ChatPromptClient at 0x1208d38c0>"
      ]
     },
     "execution_count": 10,
     "metadata": {},
     "output_type": "execute_result"
    }
   ],
   "source": [
    "langfuse_client.create_prompt(\n",
    "    name=\"amazon\",   # Place company name here\n",
    "    type=\"chat\",\n",
    "    prompt=[system_message_dict, user_message_dict],\n",
    "    labels=[\"testing\", \"delivery\"],\n",
    "    tags=[\"retail\"],\n",
    ")"
   ]
  },
  {
   "cell_type": "code",
   "execution_count": null,
   "id": "6896a233",
   "metadata": {},
   "outputs": [],
   "source": []
  },
  {
   "cell_type": "code",
   "execution_count": null,
   "id": "c7794230",
   "metadata": {},
   "outputs": [],
   "source": []
  },
  {
   "cell_type": "code",
   "execution_count": null,
   "id": "9815fc5a",
   "metadata": {},
   "outputs": [],
   "source": []
  }
 ],
 "metadata": {
  "kernelspec": {
   "display_name": "azure_guardrails_venv",
   "language": "python",
   "name": "python3"
  },
  "language_info": {
   "codemirror_mode": {
    "name": "ipython",
    "version": 3
   },
   "file_extension": ".py",
   "mimetype": "text/x-python",
   "name": "python",
   "nbconvert_exporter": "python",
   "pygments_lexer": "ipython3",
   "version": "3.12.11"
  }
 },
 "nbformat": 4,
 "nbformat_minor": 5
}
